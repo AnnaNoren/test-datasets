{
 "cells": [
  {
   "cell_type": "code",
   "execution_count": null,
   "id": "a31e8f67",
   "metadata": {},
   "outputs": [],
   "source": [
    "import matplotlib.pyplot as plt"
   ]
  },
  {
   "cell_type": "code",
   "execution_count": null,
   "id": "b790bf75",
   "metadata": {
    "tags": [
     "parameters"
    ]
   },
   "outputs": [],
   "source": [
    "input_dir = None\n",
    "artifact_dir = None\n",
    "cpus = 1\n",
    "n_iter = 10\n",
    "input_filename = None"
   ]
  },
  {
   "cell_type": "markdown",
   "id": "2b910f91",
   "metadata": {},
   "source": [
    "## Running from nextflow\n",
    "The parameters are:"
   ]
  },
  {
   "cell_type": "code",
   "execution_count": null,
   "id": "7b574b7f",
   "metadata": {},
   "outputs": [],
   "source": [
    "print(f\"input_dir = {input_dir}\")\n",
    "print(f\"artifact_dir = {artifact_dir}\")\n",
    "print(f\"cpus = {cpus}\")\n",
    "print(f\"n_iter = {n_iter}\")\n",
    "print(f\"input_filename = {input_filename}\")\n",
    "\n",
    "## Read an input file\n",
    "\n",
    "```python\n",
    "if input_dir is not None:\n",
    "    with open(f\"{input_dir}/{input_filename}\") as f:\n",
    "        print(f.read())"
   ]
  },
  {
   "cell_type": "markdown",
   "id": "d4aaec91",
   "metadata": {},
   "source": [
    "## Print Hello world `n` times"
   ]
  },
  {
   "cell_type": "code",
   "execution_count": null,
   "id": "9cc6af1f",
   "metadata": {},
   "outputs": [],
   "source": [
    "for i in range(n_iter):\n",
    "    print(f\"Hello World {i+1}!\")"
   ]
  },
  {
   "cell_type": "markdown",
   "id": "a13c4172",
   "metadata": {},
   "source": [
    "## Include a plot"
   ]
  },
  {
   "cell_type": "code",
   "execution_count": null,
   "id": "148d3103",
   "metadata": {},
   "outputs": [],
   "source": [
    "plt.plot(range(10))"
   ]
  },
  {
   "cell_type": "markdown",
   "id": "39021d39",
   "metadata": {},
   "source": [
    "## Write an output file"
   ]
  },
  {
   "cell_type": "code",
   "execution_count": null,
   "id": "3ffc037a",
   "metadata": {
    "lines_to_next_cell": 0
   },
   "outputs": [],
   "source": [
    "if artifact_dir is not None:\n",
    "    with open(f\"{artifact_dir}/artifact.txt\", 'w') as f:\n",
    "        f.write(\"Hello World!\\n\")"
   ]
  },
  {
   "cell_type": "markdown",
   "id": "95532957",
   "metadata": {},
   "source": []
  }
 ],
 "metadata": {
  "jupytext": {
   "cell_metadata_filter": "tags,-all",
   "main_language": "python",
   "notebook_metadata_filter": "-all"
  }
 },
 "nbformat": 4,
 "nbformat_minor": 5
}
