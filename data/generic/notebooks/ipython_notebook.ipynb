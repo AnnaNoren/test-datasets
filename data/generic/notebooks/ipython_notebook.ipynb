{
 "cells": [
  {
   "cell_type": "code",
   "execution_count": null,
   "id": "c1960dec",
   "metadata": {},
   "outputs": [],
   "source": [
    "import matplotlib.pyplot as plt"
   ]
  },
  {
   "cell_type": "code",
   "execution_count": null,
   "id": "33c80d0c",
   "metadata": {
    "tags": [
     "parameters"
    ]
   },
   "outputs": [],
   "source": [
    "input_dir = None\n",
    "artifact_dir = None\n",
    "cpus = 1\n",
    "n_iter = 10\n",
    "input_filename = None"
   ]
  },
  {
   "cell_type": "markdown",
   "id": "79b492b5",
   "metadata": {},
   "source": [
    "## Read an input file"
   ]
  },
  {
   "cell_type": "code",
   "execution_count": null,
   "id": "25a9e549",
   "metadata": {},
   "outputs": [],
   "source": [
    "if input_dir is not None:\n",
    "    with open(f\"{input_dir}/{input_filename}\") as f:\n",
    "        print(f.read())"
   ]
  },
  {
   "cell_type": "markdown",
   "id": "4985fddd",
   "metadata": {},
   "source": [
    "## Print Hello world `n` times"
   ]
  },
  {
   "cell_type": "code",
   "execution_count": null,
   "id": "244846a0",
   "metadata": {},
   "outputs": [],
   "source": [
    "for i in range(n_iter):\n",
    "    print(f\"Hello World {i+1}!\")"
   ]
  },
  {
   "cell_type": "markdown",
   "id": "42498ff1",
   "metadata": {},
   "source": [
    "## Include a plot"
   ]
  },
  {
   "cell_type": "code",
   "execution_count": null,
   "id": "6876dfaa",
   "metadata": {},
   "outputs": [],
   "source": [
    "plt.plot(range(10))"
   ]
  },
  {
   "cell_type": "markdown",
   "id": "79783525",
   "metadata": {},
   "source": [
    "## Write an output file"
   ]
  },
  {
   "cell_type": "code",
   "execution_count": null,
   "id": "cbb21543",
   "metadata": {},
   "outputs": [],
   "source": [
    "if artifact_dir is not None:\n",
    "    with open(f\"{artifact_dir}/artifact.txt\", 'w') as f:\n",
    "        f.write(\"Hello World!\\n\")"
   ]
  },
  {
   "cell_type": "code",
   "execution_count": null,
   "id": "fb202fec",
   "metadata": {},
   "outputs": [],
   "source": []
  }
 ],
 "metadata": {
  "jupytext": {
   "cell_metadata_filter": "tags,-all",
   "main_language": "python",
   "notebook_metadata_filter": "-all"
  }
 },
 "nbformat": 4,
 "nbformat_minor": 5
}
