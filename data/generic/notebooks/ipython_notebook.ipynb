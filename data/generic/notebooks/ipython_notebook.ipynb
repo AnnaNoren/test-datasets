{
 "cells": [
  {
   "cell_type": "code",
   "execution_count": null,
   "id": "c26b8e8b",
   "metadata": {},
   "outputs": [],
   "source": [
    "import matplotlib.pyplot as plt"
   ]
  },
  {
   "cell_type": "code",
   "execution_count": null,
   "id": "8a10d15f",
   "metadata": {
    "tags": [
     "parameters"
    ]
   },
   "outputs": [],
   "source": [
    "input_dir = None\n",
    "artifact_dir = None\n",
    "cpus = 1\n",
    "n = 10\n",
    "input_filename = None"
   ]
  },
  {
   "cell_type": "markdown",
   "id": "b74e954d",
   "metadata": {},
   "source": [
    "## Read an input file"
   ]
  },
  {
   "cell_type": "code",
   "execution_count": null,
   "id": "a798f9f9",
   "metadata": {},
   "outputs": [],
   "source": [
    "if input_dir is not None:\n",
    "    with open(f\"{input_dir}/{input_filename}\") as f:\n",
    "        print(f.read())"
   ]
  },
  {
   "cell_type": "markdown",
   "id": "fb44daa2",
   "metadata": {},
   "source": [
    "## Print Hello world `n` times"
   ]
  },
  {
   "cell_type": "code",
   "execution_count": null,
   "id": "d8f41788",
   "metadata": {},
   "outputs": [],
   "source": [
    "for i in range(n):\n",
    "    print(f\"Hello World {i+1}!\")"
   ]
  },
  {
   "cell_type": "markdown",
   "id": "f2e0aa0b",
   "metadata": {},
   "source": [
    "## Include a plot"
   ]
  },
  {
   "cell_type": "code",
   "execution_count": null,
   "id": "e52cec18",
   "metadata": {},
   "outputs": [],
   "source": [
    "plt.plot(range(10))"
   ]
  },
  {
   "cell_type": "markdown",
   "id": "6a03a5bb",
   "metadata": {},
   "source": [
    "## Write an output file"
   ]
  },
  {
   "cell_type": "code",
   "execution_count": null,
   "id": "5b87fc5d",
   "metadata": {},
   "outputs": [],
   "source": [
    "if artifact_dir is not None:\n",
    "    with open(f\"{artifact_dir}/artifact.txt\", 'w') as f:\n",
    "        f.write(\"Hello World!\\n\")"
   ]
  },
  {
   "cell_type": "code",
   "execution_count": null,
   "id": "ceb6d34c",
   "metadata": {},
   "outputs": [],
   "source": []
  }
 ],
 "metadata": {
  "jupytext": {
   "cell_metadata_filter": "-all",
   "main_language": "python",
   "notebook_metadata_filter": "-all"
  },
  "kernelspec": {
   "display_name": "Python 3",
   "language": "python",
   "name": "python3"
  },
  "language_info": {
   "codemirror_mode": {
    "name": "ipython",
    "version": 3
   },
   "file_extension": ".py",
   "mimetype": "text/x-python",
   "name": "python",
   "nbconvert_exporter": "python",
   "pygments_lexer": "ipython3",
   "version": "3.7.6"
  }
 },
 "nbformat": 4,
 "nbformat_minor": 5
}
